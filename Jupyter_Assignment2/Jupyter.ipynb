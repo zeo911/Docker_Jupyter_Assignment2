{
 "cells": [
  {
   "cell_type": "code",
   "execution_count": 12,
   "id": "65cfbb56-9f4c-43cd-bb5f-59877615f014",
   "metadata": {},
   "outputs": [
    {
     "name": "stdout",
     "output_type": "stream",
     "text": [
      "Most Selling Harry Potter Books:\n",
      "                                                title  ratings_count\n",
      "1   Harry Potter and the Sorcerer's Stone (Harry P...        4602479\n",
      "6   Harry Potter and the Prisoner of Azkaban (Harr...        1832823\n",
      "9   Harry Potter and the Chamber of Secrets (Harry...        1779331\n",
      "10  Harry Potter and the Goblet of Fire (Harry Pot...        1753043\n",
      "11  Harry Potter and the Deathly Hallows (Harry Po...        1746574\n",
      "\n",
      "Average Rating of Harry Potter Books:\n",
      "4.482727272727273\n"
     ]
    }
   ],
   "source": [
    "import pandas as pd\n",
    "\n",
    "# Load the dataset\n",
    "df = pd.read_csv('books.csv')\n",
    "\n",
    "# Data cleaning and preprocessing\n",
    "# Convert 'ratings_count' to numeric and 'average_rating' to float\n",
    "df['ratings_count'] = pd.to_numeric(df['ratings_count'], errors='coerce')\n",
    "df['average_rating'] = df['average_rating'].astype(float)\n",
    "\n",
    "# Drop rows with missing values\n",
    "df.dropna(subset=['title', 'ratings_count', 'average_rating'], inplace=True)\n",
    "\n",
    "# Focus on Harry Potter book series\n",
    "harry_potter_books = df[df['title'].str.contains(\"Harry Potter\")]\n",
    "\n",
    "# Find the most selling books within the Harry Potter series\n",
    "most_selling_harry_potter = harry_potter_books.nlargest(5, 'ratings_count')\n",
    "\n",
    "# Calculate the average rating of the Harry Potter books\n",
    "average_rating_harry_potter = harry_potter_books['average_rating'].mean()\n",
    "\n",
    "# Display the results\n",
    "print(\"Most Selling Harry Potter Books:\")\n",
    "print(most_selling_harry_potter[['title', 'ratings_count']])\n",
    "print(\"\\nAverage Rating of Harry Potter Books:\")\n",
    "print(average_rating_harry_potter)\n"
   ]
  },
  {
   "cell_type": "code",
   "execution_count": null,
   "id": "12a212a4-f7de-4724-95f2-cb993098eb3c",
   "metadata": {},
   "outputs": [],
   "source": []
  }
 ],
 "metadata": {
  "kernelspec": {
   "display_name": "Python 3 (ipykernel)",
   "language": "python",
   "name": "python3"
  },
  "language_info": {
   "codemirror_mode": {
    "name": "ipython",
    "version": 3
   },
   "file_extension": ".py",
   "mimetype": "text/x-python",
   "name": "python",
   "nbconvert_exporter": "python",
   "pygments_lexer": "ipython3",
   "version": "3.11.6"
  }
 },
 "nbformat": 4,
 "nbformat_minor": 5
}
